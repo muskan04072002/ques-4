{
 "cells": [
  {
   "cell_type": "code",
   "execution_count": 2,
   "id": "3424c3c0",
   "metadata": {},
   "outputs": [
    {
     "name": "stdout",
     "output_type": "stream",
     "text": [
      "The peak element is 20\n"
     ]
    }
   ],
   "source": [
    "def findPeak(nums, left=None, right=None):\n",
    " \n",
    "    # Initialize left and right\n",
    "    if left is None and right is None:\n",
    "        left, right = 0, len(nums) - 1\n",
    " \n",
    "    # find the middle element. To avoid overflow, use mid = left + (right - left) / 2\n",
    "    mid = (left + right) // 2\n",
    " \n",
    "    # check if the middle element is greater than its neighbors\n",
    "    if ((mid == 0 or nums[mid - 1] <= nums[mid]) and\n",
    "            (mid == len(nums) - 1 or nums[mid + 1] <= nums[mid])):\n",
    "        return mid\n",
    " \n",
    "    # If the left neighbor of `mid` is greater than the middle element,\n",
    "    # find the peak recursively in the left sublist\n",
    "    if mid - 1 >= 0 and nums[mid - 1] > nums[mid]:\n",
    "        return findPeak(nums, left, mid - 1)\n",
    " \n",
    "    # If the right neighbor of `mid` is greater than the middle element,\n",
    "    # find the peak recursively in the right sublist\n",
    "    return findPeak(nums, mid + 1, right)\n",
    " \n",
    " \n",
    "def findPeakElement(nums) -> int:\n",
    " \n",
    "    # base case\n",
    "    if not nums:\n",
    "        exit(-1)\n",
    " \n",
    "    index = findPeak(nums)\n",
    "    return nums[index]\n",
    " \n",
    " \n",
    "if __name__ == '__main__':\n",
    " \n",
    "    nums = [5, 10, 20, 15]\n",
    "    print('The peak element is', findPeakElement(nums))\n",
    " "
   ]
  },
  {
   "cell_type": "code",
   "execution_count": null,
   "id": "2b9e443c",
   "metadata": {},
   "outputs": [],
   "source": []
  }
 ],
 "metadata": {
  "kernelspec": {
   "display_name": "Python 3 (ipykernel)",
   "language": "python",
   "name": "python3"
  },
  "language_info": {
   "codemirror_mode": {
    "name": "ipython",
    "version": 3
   },
   "file_extension": ".py",
   "mimetype": "text/x-python",
   "name": "python",
   "nbconvert_exporter": "python",
   "pygments_lexer": "ipython3",
   "version": "3.9.12"
  }
 },
 "nbformat": 4,
 "nbformat_minor": 5
}
